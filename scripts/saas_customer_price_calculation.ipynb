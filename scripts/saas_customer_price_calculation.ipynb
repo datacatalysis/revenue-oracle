{
 "cells": [
  {
   "cell_type": "code",
   "execution_count": null,
   "metadata": {},
   "outputs": [],
   "source": [
    "# modify these values as necessary\n",
    "\n",
    "# your revenue aim, e.g. 10 million annual recurring revenue\n",
    "revenue_aim_yearly = 10_000_000\n",
    "# your subscription cost\n",
    "saas_subscription_yearly = 20_000\n",
    "# your target market share of total addressable market\n",
    "percentage_marketshare = 0.1\n",
    "\n",
    "# calculation\n",
    "\n",
    "n_customers = int(revenue_aim_yearly / saas_subscription_yearly)\n",
    "total_addressable_market = revenue_aim_yearly / percentage_marketshare\n",
    "TAM_n_customers = n_customers * 10\n",
    "print(\n",
    "    f\"\"\"Your target revenue per year = {revenue_aim_yearly / 1_000_000} million,\n",
    "Target subscription cost per year = {saas_subscription_yearly} EUR,\n",
    "Number of customers necessary = {n_customers},\n",
    "Total addressable market EUR = {total_addressable_market / 1_000_000} million, assuming {percentage_marketshare*100}% market share,\n",
    "Total addressable market number of customers = {TAM_n_customers}\"\"\"\n",
    ")"
   ]
  }
 ],
 "metadata": {
  "kernelspec": {
   "display_name": "dc",
   "language": "python",
   "name": "python3"
  },
  "language_info": {
   "codemirror_mode": {
    "name": "ipython",
    "version": 3
   },
   "file_extension": ".py",
   "mimetype": "text/x-python",
   "name": "python",
   "nbconvert_exporter": "python",
   "pygments_lexer": "ipython3",
   "version": "3.12.6"
  }
 },
 "nbformat": 4,
 "nbformat_minor": 2
}
